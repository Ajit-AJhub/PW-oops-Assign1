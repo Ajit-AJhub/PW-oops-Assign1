{
 "cells": [
  {
   "cell_type": "code",
   "execution_count": null,
   "id": "d54ca5ff-505d-48f4-a715-856b0384be8f",
   "metadata": {},
   "outputs": [],
   "source": [
    "Q1. Explain Class and Object with respect to Object-Oriented Programming. Give a suitable example.\n",
    "Ans-1 \n",
    "In object-oriented programming (OOP), a class is a blueprint or template for creating objects. \n",
    "It defines the properties (attributes) and behaviors (methods) that objects of that class will have.\n",
    "An object, on the other hand, is an instance of a class. \n",
    "It is a concrete realization of the class, with its own set of values for the attributes defined by the class."
   ]
  },
  {
   "cell_type": "code",
   "execution_count": 1,
   "id": "9c6c2612-e207-4bfe-85fe-88fa605e2df5",
   "metadata": {},
   "outputs": [],
   "source": [
    "class Car:\n",
    "    def __init__(self, make, model, color, year):\n",
    "        self.make = make\n",
    "        self.model = model\n",
    "        self.color = color\n",
    "        self.year = year\n",
    "\n",
    "    def start_engine(self):\n",
    "        print(\"Engine started\")\n",
    "\n",
    "    def accelerate(self):\n",
    "        print(\"Car is accelerating\")\n",
    "\n",
    "    def brake(self):\n",
    "        print(\"Car is braking\")\n"
   ]
  },
  {
   "cell_type": "code",
   "execution_count": 5,
   "id": "55619988-4de7-4683-8c2f-55bcfc9e5457",
   "metadata": {},
   "outputs": [],
   "source": [
    "my_car = Car(\"Toyota\", \"Fortuner\", \"Black\", 2020)\n"
   ]
  },
  {
   "cell_type": "code",
   "execution_count": 8,
   "id": "6d75a86a-620a-4683-8494-c21fd8002da0",
   "metadata": {},
   "outputs": [
    {
     "name": "stdout",
     "output_type": "stream",
     "text": [
      "Toyota\n",
      "Fortuner\n",
      "2020\n",
      "Black\n",
      "Engine started\n",
      "Car is accelerating\n"
     ]
    }
   ],
   "source": [
    "print(my_car.make)  \n",
    "print(my_car.model)  \n",
    "print(my_car.year)\n",
    "print(my_car.color)\n",
    "my_car.start_engine()  \n",
    "my_car.accelerate()  \n"
   ]
  },
  {
   "cell_type": "code",
   "execution_count": null,
   "id": "7cee61cc-4688-4cd6-83c0-e905a89507ec",
   "metadata": {},
   "outputs": [],
   "source": [
    "Q2. Name the four pillars of OOPs.\n",
    "Ans2- \n",
    "The four pillars of Object-Oriented Programming (OOP) are:\n",
    "\n",
    "Encapsulation: Encapsulation is the process of bundling data and the methods/functions that operate on that data into a single unit called an object. \n",
    "It hides the internal details of an object and provides a well-defined interface to interact with the object. \n",
    "Encapsulation helps in achieving data security and code modularity.\n",
    "\n",
    "Inheritance: Inheritance is a mechanism that allows a class to inherit properties and behaviors from another class, \n",
    "called the superclass or base class. The class that inherits these properties and behaviors is called the subclass or derived class.\n",
    "Inheritance promotes code reusability and allows the creation of hierarchical relationships between classes.\n",
    "\n",
    "Polymorphism: Polymorphism refers to the ability of an object to take on different forms or have multiple behaviors depending on the context.\n",
    "In OOP, polymorphism is typically achieved through method overriding and method overloading. \n",
    "Method overriding allows a subclass to provide a different implementation of a method that is already defined in its superclass.\n",
    "Method overloading allows multiple methods with the same name but different parameters to exist in a class.\n",
    "\n",
    "Abstraction: Abstraction involves focusing on essential qualities while ignoring unnecessary details.\n",
    "It allows the creation of abstract classes and interfaces that define a common set of methods and properties that subclasses can implement in \n",
    "their own way. Abstraction helps in managing complexity by providing a high-level view of the system and hiding the internal implementation details.\n",
    "It also enables the separation of interface and implementation, \n",
    "allowing changes in the implementation without affecting the clients of the interface."
   ]
  },
  {
   "cell_type": "code",
   "execution_count": null,
   "id": "e91ce6a7-3020-407a-ab15-9c4ff035c423",
   "metadata": {},
   "outputs": [],
   "source": [
    "Q3. Explain why the __init__() function is used. Give a suitable example.\n",
    "Ans 3-\n",
    "The __init__() function is a special method in Python classes that is automatically called when an object is created from the class. \n",
    "It is used to initialize the attributes (properties) of the object. \n",
    "The purpose of the __init__() function is to set the initial state of the object by assigning values to its attributes."
   ]
  },
  {
   "cell_type": "code",
   "execution_count": 10,
   "id": "42e6f031-2ee3-4999-b6b8-86a40e5bbbb6",
   "metadata": {},
   "outputs": [
    {
     "name": "stdout",
     "output_type": "stream",
     "text": [
      "AJIt\n",
      "25\n",
      "RAJAT\n",
      "30\n",
      "Hello, my name is AJIt and I am 25 years old.\n",
      "Hello, my name is RAJAT and I am 30 years old.\n"
     ]
    }
   ],
   "source": [
    "class Person:\n",
    "    def __init__(self, name, age):\n",
    "        self.name = name\n",
    "        self.age = age\n",
    "\n",
    "    def introduce(self):\n",
    "        print(f\"Hello, my name is {self.name} and I am {self.age} years old.\")\n",
    "\n",
    "\n",
    "person1 = Person(\"AJIt\", 25)\n",
    "person2 = Person(\"RAJAT\", 30)\n",
    "\n",
    "\n",
    "print(person1.name) \n",
    "print(person1.age)\n",
    "print(person2.name)\n",
    "print(person2.age)   \n",
    "\n",
    "\n",
    "person1.introduce() \n",
    "person2.introduce() \n"
   ]
  },
  {
   "cell_type": "code",
   "execution_count": null,
   "id": "5bd98dab-ee35-4558-8001-5f6bea2a386d",
   "metadata": {},
   "outputs": [],
   "source": [
    "Q4. Why self is used in OOPs?\n",
    "Ans4- In object-oriented programming (OOP), the \"self\" keyword refers to an instance of a class. \n",
    "It is a common convention used in many programming languages, such as Python, to represent the current object within a class definition.\n",
    "\n",
    "The purpose of \"self\" is to access the instance variables and methods of a class within its own definition. When a class is instantiated, \n",
    "i.e., an object is created from the class, the \"self\" parameter allows you to refer to that specific object.\n",
    "By using \"self\", you can access and modify the object's attributes and call its methods."
   ]
  },
  {
   "cell_type": "code",
   "execution_count": 11,
   "id": "6a028b0e-a5b4-4177-98f9-1c4622344bdd",
   "metadata": {},
   "outputs": [
    {
     "name": "stdout",
     "output_type": "stream",
     "text": [
      "Hello, my name is Ajit\n"
     ]
    }
   ],
   "source": [
    "class Person:\n",
    "    def __init__(self, name):\n",
    "        self.name = name\n",
    "\n",
    "    def greet(self):\n",
    "        print(\"Hello, my name is\", self.name)\n",
    "\n",
    "person1 = Person(\"Ajit\")\n",
    "person1.greet()\n"
   ]
  },
  {
   "cell_type": "code",
   "execution_count": null,
   "id": "74a60262-c987-4a7c-94d8-a264933c0ba4",
   "metadata": {},
   "outputs": [],
   "source": [
    "Q5. What is inheritance? Give an example for each type of inheritance.\n",
    "Ans 5-\n",
    "Inheritance is a fundamental concept in object-oriented programming (OOP) where a class can acquire the properties and methods of another class.\n",
    "It allows for code reuse and the creation of a hierarchy of classes.\n",
    "\n",
    "There are different types of inheritance, including:\n",
    "\n",
    "1.Single Inheritance: In single inheritance, a class inherits properties and methods from only one parent class.\n",
    "It forms a linear hierarchy of classes"
   ]
  },
  {
   "cell_type": "code",
   "execution_count": 13,
   "id": "588acdae-612d-40b9-a80b-76a6de88d5c6",
   "metadata": {},
   "outputs": [
    {
     "name": "stdout",
     "output_type": "stream",
     "text": [
      "Buddy is eating.\n",
      "Woof!\n"
     ]
    }
   ],
   "source": [
    "class Animal:\n",
    "    def __init__(self, name):\n",
    "        self.name = name\n",
    "\n",
    "    def eat(self):\n",
    "        print(f\"{self.name} is eating.\")\n",
    "\n",
    "class Dog(Animal):\n",
    "    def bark(self):\n",
    "        print(\"Woof!\")\n",
    "\n",
    "dog = Dog(\"Buddy\")\n",
    "dog.eat()  \n",
    "dog.bark() \n"
   ]
  },
  {
   "cell_type": "code",
   "execution_count": null,
   "id": "a9179860-8848-4a42-853e-634d1c51c57c",
   "metadata": {},
   "outputs": [],
   "source": [
    "2.Multiple Inheritance: Multiple inheritance allows a class to inherit properties and methods from multiple parent classes. \n",
    "The class inherits characteristics from all the parent classes.\n"
   ]
  },
  {
   "cell_type": "code",
   "execution_count": 14,
   "id": "1e8f5dbb-bb10-4ad5-a9b5-996972c8789a",
   "metadata": {},
   "outputs": [
    {
     "name": "stdout",
     "output_type": "stream",
     "text": [
      "Flying...\n",
      "Swimming...\n"
     ]
    }
   ],
   "source": [
    "class Flyer:\n",
    "    def fly(self):\n",
    "        print(\"Flying...\")\n",
    "\n",
    "class Swimmer:\n",
    "    def swim(self):\n",
    "        print(\"Swimming...\")\n",
    "\n",
    "class Duck(Flyer, Swimmer):\n",
    "    pass\n",
    "\n",
    "duck = Duck()\n",
    "duck.fly() \n",
    "duck.swim() \n"
   ]
  },
  {
   "cell_type": "code",
   "execution_count": null,
   "id": "3bad0db1-d632-4f76-ad5a-fcdf050a6064",
   "metadata": {},
   "outputs": [],
   "source": [
    "3.Multilevel Inheritance: Multilevel inheritance refers to a chain of inheritance where a derived class inherits from a base class,\n",
    "and another class inherits from the derived class.\n",
    "It forms a hierarchical structure."
   ]
  },
  {
   "cell_type": "code",
   "execution_count": 15,
   "id": "3db14639-13c1-4a30-b6bd-8bbbedcab5fe",
   "metadata": {},
   "outputs": [
    {
     "name": "stdout",
     "output_type": "stream",
     "text": [
      "Ferrari is being driven.\n",
      "Honk!\n",
      "Accelerating...\n"
     ]
    }
   ],
   "source": [
    "class Vehicle:\n",
    "    def __init__(self, brand):\n",
    "        self.brand = brand\n",
    "\n",
    "    def drive(self):\n",
    "        print(f\"{self.brand} is being driven.\")\n",
    "\n",
    "class Car(Vehicle):\n",
    "    def honk(self):\n",
    "        print(\"Honk!\")\n",
    "\n",
    "class SportsCar(Car):\n",
    "    def accelerate(self):\n",
    "        print(\"Accelerating...\")\n",
    "\n",
    "my_car = SportsCar(\"Ferrari\")\n",
    "my_car.drive() \n",
    "my_car.honk() \n",
    "my_car.accelerate() \n"
   ]
  },
  {
   "cell_type": "code",
   "execution_count": null,
   "id": "259f4248-3050-42cd-b85e-80424e4b87eb",
   "metadata": {},
   "outputs": [],
   "source": []
  }
 ],
 "metadata": {
  "kernelspec": {
   "display_name": "Python 3 (ipykernel)",
   "language": "python",
   "name": "python3"
  },
  "language_info": {
   "codemirror_mode": {
    "name": "ipython",
    "version": 3
   },
   "file_extension": ".py",
   "mimetype": "text/x-python",
   "name": "python",
   "nbconvert_exporter": "python",
   "pygments_lexer": "ipython3",
   "version": "3.10.8"
  }
 },
 "nbformat": 4,
 "nbformat_minor": 5
}
